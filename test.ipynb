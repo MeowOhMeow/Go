{
 "cells": [
  {
   "cell_type": "code",
   "execution_count": 1,
   "metadata": {},
   "outputs": [
    {
     "name": "stdout",
     "output_type": "stream",
     "text": [
      "['DL0000000001', 'B', 'B[pq]', 'W[qd]', 'B[cp]', 'W[dd]', 'B[qo]', 'W[eq]', 'B[iq]', 'W[cq]', 'B[bq]', 'W[br]', 'B[dq]', 'W[cr]', 'B[dp]', 'W[dr]', 'B[bp]', 'W[gq]', 'B[cf]', 'W[ce]', 'B[df]', 'W[ck]', 'B[cm]', 'W[ch]', 'B[di]', 'W[dh]', 'B[ci]', 'W[bi]', 'B[bj]', 'W[bg]', 'B[ai]', 'W[bh]', 'B[cj]', 'W[bf]', 'B[dk]', 'W[kc]', 'B[ff]', 'W[fd]', 'B[oc]', 'W[pc]', 'B[od]', 'W[qg]', 'B[ic]', 'W[ke]', 'B[he]', 'W[og]', 'B[ld]', 'W[kd]', 'B[mf]', 'W[kg]', 'B[mh]', 'W[ki]', 'B[jf]', 'W[kf]', 'B[qe]', 'W[re]', 'B[pe]', 'W[rc]', 'B[mj]', 'W[qj]', 'B[pi]', 'W[qi]', 'B[ql]', 'W[pk]', 'B[lh]', 'W[kh]', 'B[fb]', 'W[gc]', 'B[gb]', 'W[hc]', 'B[hb]', 'W[id]', 'B[ed]', 'W[ec]', 'B[fc]', 'W[ee]', 'B[hd]', 'W[gd]', 'B[jd]', 'W[ib]', 'B[jc]', 'W[jb]', 'B[je]', 'W[ef]', 'B[lb]', 'W[kb]', 'B[ig]', 'W[kq]', 'B[mq]', 'W[lq]', 'B[mp]', 'W[ko]', 'B[io]', 'W[km]', 'B[ln]', 'W[kn]', 'B[ml]', 'W[fn]', 'B[im]', 'W[kk]', 'B[jl]', 'W[kl]', 'B[ii]', 'W[lo]', 'B[mo]', 'W[lm]', 'B[nm]', 'W[mn]', 'B[nn]', 'W[ij]', 'B[hj]', 'W[ik]', 'B[jj]', 'W[jk]', 'B[ji]', 'W[gl]', 'B[kj]', 'W[el]', 'B[fo]', 'W[go]', 'B[gn]', 'W[fp]', 'B[fm]', 'W[hn]', 'B[en]', 'W[ho]', 'B[hm]', 'W[gm]', 'B[hl]', 'W[hk]', 'B[gk]', 'W[fl]', 'B[in]', 'W[fn]', 'B[db]', 'W[eb]', 'B[gn]', 'W[fk]', 'B[gj]', 'W[fn]', 'B[ea]', 'W[fa]', 'B[gn]', 'W[fj]', 'B[fi]', 'W[fn]', 'B[ga]', 'W[cb]', 'B[gn]', 'W[gi]', 'B[hi]', 'W[fn]', 'B[dc]', 'W[ed]', 'B[gn]', 'W[ei]', 'B[gh]', 'W[fn]', 'B[cc]', 'W[bb]', 'B[gn]', 'W[fh]', 'B[ej]', 'W[gi]', 'B[hp]', 'W[gp]', 'B[fi]', 'W[fn]', 'B[eh]', 'W[em]', 'B[bc]', 'W[ia]', 'B[bd]', 'W[ha]', 'B[ab]', 'W[ba]', 'B[ad]', 'W[da]', 'B[ca]', 'W[dn]', 'B[da]', 'W[fa]', 'B[cn]', 'W[rk]', 'B[mr]', 'W[lr]', 'B[jr]', 'W[hr]', 'B[lp]', 'W[kp]', 'B[mm]', 'W[hq]', 'B[ip]', 'W[ir]', 'B[jq]', 'W[ms]', 'B[nr]', 'W[ns]', 'B[ks]', 'W[ls]', 'B[or]', 'W[is]']\n"
     ]
    }
   ],
   "source": [
    "import csv\n",
    "import torch\n",
    "from torch.utils.data import Dataset\n",
    "\n",
    "class GoDataset(Dataset):\n",
    "    def __init__(self, path, transform=None):\n",
    "        self.path = path\n",
    "        # convert from abc to 123\n",
    "        self.char = 'abcdefghijklmnopqrs'\n",
    "        self.char2idx = {c: i for i, c in enumerate(self.char)}\n",
    "        self.transform = transform\n",
    "        \n",
    "        # Load data from CSV file\n",
    "        with open(path, 'r') as file:\n",
    "            self.data = list(csv.reader(file))\n",
    "        \n",
    "    def __len__(self):\n",
    "        return len(self.data)\n",
    "    \n",
    "    def __getitem__(self, idx):\n",
    "        # Get data at the given index\n",
    "        row = self.data[idx]\n",
    "\n",
    "        return row\n",
    "\n",
    "\n",
    "goDataset = GoDataset('data\\\\train\\dan_train.csv')\n",
    "print(goDataset[0])"
   ]
  }
 ],
 "metadata": {
  "kernelspec": {
   "display_name": "Python 3",
   "language": "python",
   "name": "python3"
  },
  "language_info": {
   "codemirror_mode": {
    "name": "ipython",
    "version": 3
   },
   "file_extension": ".py",
   "mimetype": "text/x-python",
   "name": "python",
   "nbconvert_exporter": "python",
   "pygments_lexer": "ipython3",
   "version": "3.10.2"
  }
 },
 "nbformat": 4,
 "nbformat_minor": 2
}
