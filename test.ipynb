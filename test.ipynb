{
 "cells": [
  {
   "cell_type": "code",
   "execution_count": 1,
   "metadata": {},
   "outputs": [],
   "source": [
    "import csv\n",
    "from torch.utils.data import Dataset\n",
    "\n",
    "\n",
    "class GoDataset(Dataset):\n",
    "    def __init__(self, path, transform=None):\n",
    "        super().__init__()\n",
    "        self.path = path\n",
    "        # convert from abc to 123\n",
    "        self.char = 'abcdefghijklmnopqrs'\n",
    "        self.char2idx = {c: i for i, c in enumerate(self.char)}\n",
    "        self.transform = transform\n",
    "\n",
    "        # Load data from CSV file\n",
    "        with open(self.path, newline='') as csvfile:\n",
    "            reader = csv.reader(csvfile, delimiter=',')\n",
    "            self.data = list(reader)\n",
    "\n",
    "    def __len__(self):\n",
    "        return len(self.data)\n",
    "\n",
    "    def __getitem__(self, idx):\n",
    "        # Get data at the given index\n",
    "        row = self.data[idx]\n",
    "\n",
    "        return row\n",
    "\n",
    "\n",
    "goDataset = GoDataset('data/train/dan_train.csv')\n"
   ]
  },
  {
   "cell_type": "code",
   "execution_count": 2,
   "metadata": {},
   "outputs": [
    {
     "name": "stdout",
     "output_type": "stream",
     "text": [
      "100160\n"
     ]
    }
   ],
   "source": [
    "print(goDataset.__len__())"
   ]
  },
  {
   "cell_type": "code",
   "execution_count": 4,
   "metadata": {},
   "outputs": [
    {
     "name": "stdout",
     "output_type": "stream",
     "text": [
      "['DL0000000001', 'B', 'B[pq]', 'W[qd]', 'B[cp]', 'W[dd]', 'B[qo]', 'W[eq]', 'B[iq]', 'W[cq]', 'B[bq]', 'W[br]', 'B[dq]', 'W[cr]', 'B[dp]', 'W[dr]', 'B[bp]', 'W[gq]', 'B[cf]', 'W[ce]', 'B[df]', 'W[ck]', 'B[cm]', 'W[ch]', 'B[di]', 'W[dh]', 'B[ci]', 'W[bi]', 'B[bj]', 'W[bg]', 'B[ai]', 'W[bh]', 'B[cj]', 'W[bf]', 'B[dk]', 'W[kc]', 'B[ff]', 'W[fd]', 'B[oc]', 'W[pc]', 'B[od]', 'W[qg]', 'B[ic]', 'W[ke]', 'B[he]', 'W[og]', 'B[ld]', 'W[kd]', 'B[mf]', 'W[kg]', 'B[mh]', 'W[ki]', 'B[jf]', 'W[kf]', 'B[qe]', 'W[re]', 'B[pe]', 'W[rc]', 'B[mj]', 'W[qj]', 'B[pi]', 'W[qi]', 'B[ql]', 'W[pk]', 'B[lh]', 'W[kh]', 'B[fb]', 'W[gc]', 'B[gb]', 'W[hc]', 'B[hb]', 'W[id]', 'B[ed]', 'W[ec]', 'B[fc]', 'W[ee]', 'B[hd]', 'W[gd]', 'B[jd]', 'W[ib]', 'B[jc]', 'W[jb]', 'B[je]', 'W[ef]', 'B[lb]', 'W[kb]', 'B[ig]', 'W[kq]', 'B[mq]', 'W[lq]', 'B[mp]', 'W[ko]', 'B[io]', 'W[km]', 'B[ln]', 'W[kn]', 'B[ml]', 'W[fn]', 'B[im]', 'W[kk]', 'B[jl]', 'W[kl]', 'B[ii]', 'W[lo]', 'B[mo]', 'W[lm]', 'B[nm]', 'W[mn]', 'B[nn]', 'W[ij]', 'B[hj]', 'W[ik]', 'B[jj]', 'W[jk]', 'B[ji]', 'W[gl]', 'B[kj]', 'W[el]', 'B[fo]', 'W[go]', 'B[gn]', 'W[fp]', 'B[fm]', 'W[hn]', 'B[en]', 'W[ho]', 'B[hm]', 'W[gm]', 'B[hl]', 'W[hk]', 'B[gk]', 'W[fl]', 'B[in]', 'W[fn]', 'B[db]', 'W[eb]', 'B[gn]', 'W[fk]', 'B[gj]', 'W[fn]', 'B[ea]', 'W[fa]', 'B[gn]', 'W[fj]', 'B[fi]', 'W[fn]', 'B[ga]', 'W[cb]', 'B[gn]', 'W[gi]', 'B[hi]', 'W[fn]', 'B[dc]', 'W[ed]', 'B[gn]', 'W[ei]', 'B[gh]', 'W[fn]', 'B[cc]', 'W[bb]', 'B[gn]', 'W[fh]', 'B[ej]', 'W[gi]', 'B[hp]', 'W[gp]', 'B[fi]', 'W[fn]', 'B[eh]', 'W[em]', 'B[bc]', 'W[ia]', 'B[bd]', 'W[ha]', 'B[ab]', 'W[ba]', 'B[ad]', 'W[da]', 'B[ca]', 'W[dn]', 'B[da]', 'W[fa]', 'B[cn]', 'W[rk]', 'B[mr]', 'W[lr]', 'B[jr]', 'W[hr]', 'B[lp]', 'W[kp]', 'B[mm]', 'W[hq]', 'B[ip]', 'W[ir]', 'B[jq]', 'W[ms]', 'B[nr]', 'W[ns]', 'B[ks]', 'W[ls]', 'B[or]', 'W[is]']\n",
      "['DL0000000002', 'B', 'B[pq]', 'W[dp]', 'B[qd]', 'W[od]', 'B[oc]', 'W[nc]', 'B[pc]', 'W[nd]', 'B[qf]', 'W[dd]', 'B[ic]', 'W[gc]', 'B[lc]', 'W[ng]', 'B[ph]', 'W[po]', 'B[qm]', 'W[on]', 'B[pk]', 'W[jp]', 'B[mq]', 'W[mo]', 'B[rp]', 'W[qp]', 'B[qq]', 'W[ro]', 'B[rq]', 'W[ge]', 'B[ie]', 'W[nk]', 'B[ni]', 'W[le]', 'B[kd]', 'W[lh]', 'B[li]', 'W[kh]', 'B[nj]', 'W[ki]', 'B[lj]', 'W[hg]', 'B[gb]', 'W[fb]', 'B[hb]', 'W[fc]', 'B[jb]', 'W[cj]', 'B[be]', 'W[bd]', 'B[ce]', 'W[cd]', 'B[ch]', 'W[bi]', 'B[eh]', 'W[ej]', 'B[gh]', 'W[gj]', 'B[ff]', 'W[de]', 'B[df]', 'W[bg]', 'B[cg]', 'W[bh]', 'B[gf]', 'W[hf]', 'B[fe]', 'W[hh]', 'B[gd]', 'W[he]', 'B[fd]', 'W[hd]', 'B[gi]', 'W[hi]', 'B[fi]', 'W[fj]', 'B[fg]', 'W[dq]', 'B[kk]', 'W[jk]', 'B[jl]', 'W[ik]', 'B[km]', 'W[ll]', 'B[kl]', 'W[lq]', 'B[mp]', 'W[lo]', 'B[hm]', 'W[fm]', 'B[gn]', 'W[eo]', 'B[gp]', 'W[lp]', 'B[mr]', 'W[hq]', 'B[gq]', 'W[iq]', 'B[er]', 'W[dr]', 'B[gr]', 'W[lr]', 'B[ls]', 'W[ks]', 'B[ms]', 'W[jr]', 'B[fa]', 'W[ea]', 'B[ga]', 'W[db]', 'B[ad]', 'W[ac]', 'B[ae]', 'W[bb]', 'B[fn]', 'W[en]', 'B[nm]', 'W[np]', 'B[nq]', 'W[op]', 'B[oq]', 'W[om]', 'B[lm]', 'W[ol]', 'B[pp]', 'W[qo]', 'B[no]', 'W[oo]', 'B[nn]', 'W[rl]', 'B[ql]', 'W[rm]', 'B[rk]', 'W[oj]', 'B[ok]', 'W[nl]', 'B[mm]', 'W[qn]', 'B[pm]', 'W[qj]', 'B[qk]', 'W[rj]', 'B[pj]', 'W[sk]', 'B[sn]', 'W[so]', 'B[rh]', 'W[qh]', 'B[qi]', 'W[qg]', 'B[pg]', 'W[rg]', 'B[rf]', 'W[jn]', 'B[im]', 'W[ee]', 'B[ei]']\n",
      "['DL0000000003', 'B', 'B[pq]', 'W[dd]', 'B[cp]', 'W[qd]', 'B[po]', 'W[jq]', 'B[lq]', 'W[gq]', 'B[eq]', 'W[ql]', 'B[oc]', 'W[jc]', 'B[lc]', 'W[oe]', 'B[qc]', 'W[rc]', 'B[qb]', 'W[pd]', 'B[cf]', 'W[fd]', 'B[bd]', 'W[cc]', 'B[dj]', 'W[ch]', 'B[ef]', 'W[eh]', 'B[gf]', 'W[gh]', 'B[hd]', 'W[hc]', 'B[jd]', 'W[id]', 'B[ie]', 'W[ic]', 'B[gd]', 'W[gc]', 'B[fe]', 'W[ed]', 'B[je]', 'W[kd]', 'B[kc]', 'W[he]', 'B[ge]', 'W[hf]', 'B[hg]', 'W[if]', 'B[gg]', 'W[ig]', 'B[ke]', 'W[hh]', 'B[fg]', 'W[fh]', 'B[ih]', 'W[jg]', 'B[ii]', 'W[lg]', 'B[mf]', 'W[ki]', 'B[ik]', 'W[fk]', 'B[dg]', 'W[dh]', 'B[bc]', 'W[de]', 'B[df]', 'W[ce]', 'B[be]', 'W[bg]', 'B[bf]', 'W[bb]', 'B[ab]', 'W[cb]', 'B[ac]', 'W[dl]', 'B[gj]', 'W[fj]', 'B[cn]', 'W[kk]', 'B[cl]', 'W[ck]', 'B[dk]', 'W[cm]', 'B[bl]', 'W[dm]', 'B[bm]', 'W[cj]', 'B[gk]', 'W[fl]', 'B[kh]', 'W[lh]', 'B[jh]', 'W[kg]', 'B[li]', 'W[mi]', 'B[lj]', 'W[kj]', 'B[mj]', 'W[ni]', 'B[nj]', 'W[oi]', 'B[oj]', 'W[pi]', 'B[ol]', 'W[km]', 'B[jl]', 'W[kl]', 'B[qk]', 'W[qj]', 'B[rk]', 'W[rj]', 'B[pk]', 'W[in]', 'B[hn]', 'W[im]', 'B[hm]', 'W[fn]', 'B[ho]', 'W[gp]', 'B[jo]', 'W[il]', 'B[hl]', 'W[kn]', 'B[io]', 'W[ko]', 'B[jp]', 'W[kp]', 'B[kq]', 'W[iq]', 'B[go]', 'W[fo]', 'B[fp]', 'W[er]', 'B[fr]', 'W[gr]', 'B[fq]', 'W[kr]', 'B[lr]', 'W[js]', 'B[ls]', 'W[fs]', 'B[dq]', 'W[hp]', 'B[hr]', 'W[ir]', 'B[hs]', 'W[gs]', 'B[ks]', 'W[nq]', 'B[mp]', 'W[np]', 'B[mo]', 'W[no]', 'B[mn]', 'W[nm]', 'B[mm]', 'W[ml]', 'B[nn]']\n",
      "['DL0000000004', 'B', 'B[pq]', 'W[dq]', 'B[qd]', 'W[ed]', 'B[od]', 'W[mc]', 'B[pj]', 'W[me]', 'B[cd]', 'W[df]', 'B[ec]', 'W[dc]', 'B[dd]', 'W[cc]', 'B[bc]', 'W[bb]', 'B[bd]', 'W[eb]', 'B[fc]', 'W[fb]', 'B[cg]', 'W[gc]', 'B[fd]', 'W[ee]', 'B[gd]', 'W[hd]', 'B[ff]', 'W[dg]', 'B[ch]', 'W[fg]', 'B[gf]', 'W[ic]', 'B[if]', 'W[ei]', 'B[cj]', 'W[fj]', 'B[dh]', 'W[eg]', 'B[hi]', 'W[hh]', 'B[kf]', 'W[hg]', 'B[hf]', 'W[ii]', 'B[hj]', 'W[jh]', 'B[jd]', 'W[jc]', 'B[kd]', 'W[lc]', 'B[lg]', 'W[jk]', 'B[nf]', 'W[cn]', 'B[cl]', 'W[qn]', 'B[ql]', 'W[on]', 'B[mq]', 'W[rq]', 'B[qr]', 'W[rr]', 'B[iq]', 'W[kq]', 'B[fq]', 'W[jp]', 'B[cq]', 'W[dp]', 'B[dr]', 'W[er]', 'B[cr]', 'W[eq]', 'B[bo]', 'W[co]', 'B[bn]', 'W[fn]', 'B[io]', 'W[cp]', 'B[bp]', 'W[ip]', 'B[go]', 'W[hp]', 'B[ho]', 'W[gq]', 'B[gp]', 'W[fp]', 'B[fo]', 'W[fr]', 'B[gl]', 'W[hk]', 'B[gk]', 'W[gj]', 'B[ik]', 'W[hl]', 'B[il]', 'W[hm]', 'B[ij]', 'W[gm]', 'B[im]', 'W[fl]', 'B[gi]', 'W[fi]', 'B[ji]', 'W[ih]', 'B[jj]', 'W[lh]', 'B[mg]', 'W[ki]', 'B[lk]', 'W[ni]', 'B[oh]', 'W[kn]', 'B[kl]', 'W[jn]', 'B[in]', 'W[jm]', 'B[po]', 'W[jl]', 'B[kj]', 'W[nk]', 'B[nl]', 'W[ol]', 'B[li]', 'W[kh]', 'B[mi]', 'W[mh]', 'B[mj]', 'W[nj]', 'B[mk]', 'W[nm]', 'B[lm]', 'W[ml]', 'B[mm]', 'W[mn]', 'B[ln]', 'W[mo]', 'B[lo]', 'W[lp]', 'B[ko]', 'W[jo]', 'B[mp]', 'W[jq]', 'B[no]', 'W[nn]', 'B[lq]', 'W[kp]', 'B[nh]', 'W[kk]', 'B[ll]', 'W[nl]', 'B[eo]', 'W[dm]', 'B[gh]', 'W[gg]', 'B[pn]', 'W[en]', 'B[ek]', 'W[do]', 'B[rs]', 'W[qm]', 'B[pm]', 'W[km]', 'B[rl]', 'W[ob]', 'B[kc]', 'W[kb]', 'B[pb]', 'W[oc]', 'B[pc]', 'W[lj]', 'B[ab]', 'W[cb]', 'B[fk]', 'W[qq]', 'B[pr]', 'W[oo]', 'B[pp]', 'W[nq]', 'B[np]', 'W[op]', 'B[nr]', 'W[oq]', 'B[or]', 'W[kr]', 'B[ls]', 'W[ks]', 'B[lr]', 'W[ms]', 'B[mr]', 'W[qs]', 'B[ps]', 'W[ro]', 'B[rm]', 'W[pl]', 'B[rn]', 'W[nd]', 'B[ne]', 'W[dk]', 'B[eh]', 'W[fh]', 'B[dj]', 'W[ej]', 'B[cf]', 'W[ck]', 'B[bk]', 'W[dl]', 'B[bl]', 'W[pk]', 'B[qk]', 'W[pi]', 'B[oi]', 'W[pa]', 'B[qa]', 'W[di]', 'B[ci]', 'W[oj]', 'B[qj]', 'W[jf]', 'B[je]', 'W[jg]', 'B[ie]', 'W[le]', 'B[ke]', 'W[oa]', 'B[qb]', 'W[cm]', 'B[bm]', 'W[ld]', 'B[de]', 'W[ef]', 'B[fe]', 'W[id]', 'B[gb]', 'W[hc]', 'B[ba]', 'W[da]', 'B[he]', 'W[ib]', 'B[aa]', 'W[ca]', 'B[ac]', 'W[ds]', 'B[cs]', 'W[es]', 'B[mf]', 'W[qo]', 'B[qp]', 'W[ss]', 'B[qs]', 'W[rp]', 'B[ns]', 'W[kg]', 'B[lf]', 'W[om]']\n",
      "['DL0000000005', 'B', 'B[pq]', 'W[dd]', 'B[oc]', 'W[pj]', 'B[ph]', 'W[qo]', 'B[pm]', 'W[oo]', 'B[np]', 'W[qe]', 'B[oe]', 'W[qc]', 'B[qj]', 'W[qi]', 'B[pi]', 'W[ri]', 'B[qk]', 'W[qg]', 'B[pg]', 'W[qf]', 'B[pf]', 'W[cp]', 'B[eq]', 'W[hp]', 'B[jq]', 'W[kq]', 'B[jp]', 'W[nr]', 'B[nq]', 'W[or]', 'B[pp]', 'W[po]', 'B[pr]', 'W[jr]', 'B[ir]', 'W[kr]', 'B[hq]', 'W[dr]', 'B[kp]', 'W[mq]', 'B[mp]', 'W[lr]', 'B[ms]', 'W[gr]', 'B[gq]', 'W[js]', 'B[ls]', 'W[is]', 'B[hr]', 'W[fr]', 'B[hs]', 'W[fq]', 'B[lp]', 'W[gp]', 'B[nn]', 'W[rq]', 'B[rr]', 'W[qq]', 'B[qr]', 'W[qm]', 'B[ql]', 'W[rm]', 'B[rl]', 'W[so]', 'B[rp]', 'W[qp]', 'B[sm]', 'W[om]', 'B[on]', 'W[pn]', 'B[pl]', 'W[rn]', 'B[oj]', 'W[nm]', 'B[mn]', 'W[jd]', 'B[gc]', 'W[cg]', 'B[db]', 'W[eb]', 'B[ec]', 'W[dc]', 'B[fb]', 'W[cb]', 'B[ea]', 'W[nc]', 'B[nd]', 'W[nb]', 'B[lc]', 'W[ob]', 'B[pc]', 'W[pb]', 'B[eg]', 'W[lb]', 'B[kc]', 'W[kb]', 'B[jc]', 'W[mc]', 'B[md]', 'W[ic]', 'B[ib]', 'W[hc]', 'B[hb]', 'W[jb]', 'B[ke]', 'W[he]', 'B[if]', 'W[df]', 'B[ef]', 'W[gg]', 'B[hf]', 'W[gf]', 'B[ge]', 'W[fe]', 'B[gd]', 'W[ee]', 'B[dg]', 'W[ch]', 'B[ei]', 'W[gi]', 'B[ek]', 'W[gk]', 'B[hh]', 'W[jj]', 'B[gh]', 'W[ff]', 'B[fh]', 'W[nj]', 'B[lj]', 'W[lk]', 'B[kj]', 'W[kk]', 'B[jk]', 'W[ji]', 'B[lh]', 'W[kh]', 'B[li]', 'W[jl]', 'B[ik]', 'W[il]', 'B[hj]', 'W[hk]', 'B[mk]', 'W[lm]', 'B[mm]', 'W[ih]', 'B[hg]', 'W[kf]', 'B[le]', 'W[lg]', 'B[mg]', 'W[ck]', 'B[cj]', 'W[bj]', 'B[ci]', 'W[bi]', 'B[dk]', 'W[cl]', 'B[dn]', 'W[eo]', 'B[dl]', 'W[cm]', 'B[en]', 'W[ip]', 'B[iq]', 'W[in]', 'B[cn]', 'W[bo]', 'B[bn]', 'W[mh]', 'B[lf]', 'W[kg]', 'B[mj]', 'W[ca]', 'B[do]', 'W[dp]', 'B[er]', 'W[fp]', 'B[co]', 'W[ep]', 'B[gn]', 'W[fj]', 'B[ej]', 'W[hi]', 'B[bp]', 'W[bq]', 'B[ao]', 'W[pe]', 'B[aq]', 'W[br]', 'B[dh]', 'W[qd]', 'B[od]', 'W[ar]', 'B[ap]', 'W[bm]', 'B[kn]', 'W[km]', 'B[jn]', 'W[hn]', 'B[rj]', 'W[qh]', 'B[am]', 'W[al]', 'B[an]', 'W[gm]', 'B[fm]', 'W[fl]', 'B[el]', 'W[go]', 'B[fk]', 'W[fn]', 'B[gl]', 'W[hl]', 'B[fl]', 'W[jf]', 'B[je]', 'W[da]', 'B[eb]', 'W[sr]', 'B[rs]', 'W[ln]', 'B[lo]', 'W[no]', 'B[mo]', 'W[os]', 'B[gs]', 'W[fs]', 'B[jm]', 'W[jo]', 'B[ko]', 'W[io]', 'B[ml]', 'W[ij]', 'B[ll]', 'W[kl]', 'B[im]', 'W[ed]', 'B[hm]', 'W[gn]', 'B[dm]', 'W[bk]', 'B[fd]', 'W[ce]', 'B[ia]', 'W[ja]', 'B[sj]', 'W[si]', 'B[ig]', 'W[fi]', 'B[ki]', 'W[jh]', 'B[sl]', 'W[sn]', 'B[op]', 'W[sq]']\n"
     ]
    }
   ],
   "source": [
    "for i in range(5):\n",
    "    print(goDataset[i])"
   ]
  }
 ],
 "metadata": {
  "kernelspec": {
   "display_name": "Python 3",
   "language": "python",
   "name": "python3"
  },
  "language_info": {
   "codemirror_mode": {
    "name": "ipython",
    "version": 3
   },
   "file_extension": ".py",
   "mimetype": "text/x-python",
   "name": "python",
   "nbconvert_exporter": "python",
   "pygments_lexer": "ipython3",
   "version": "3.10.2"
  }
 },
 "nbformat": 4,
 "nbformat_minor": 2
}
