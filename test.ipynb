{
 "cells": [
  {
   "cell_type": "code",
   "execution_count": 14,
   "metadata": {},
   "outputs": [],
   "source": [
    "import csv\n",
    "from torch.utils.data import Dataset\n",
    "\n",
    "\n",
    "class GoDataset(Dataset):\n",
    "    def __init__(self, path, transform=None):\n",
    "        super().__init__()\n",
    "        self.path = path\n",
    "        # convert from abc to 123\n",
    "        self.char = 'abcdefghijklmnopqrs'\n",
    "        self.char2idx = {c: i for i, c in enumerate(self.char)}\n",
    "        self.transform = transform\n",
    "\n",
    "        # Load data from CSV file\n",
    "        with open(self.path, newline='') as csvfile:\n",
    "            reader = csv.reader(csvfile, delimiter=',')\n",
    "            self.data = list(reader)\n",
    "\n",
    "    def __len__(self):\n",
    "        return len(self.data)\n",
    "\n",
    "    def __getitem__(self, idx):\n",
    "        # Get data at the given index\n",
    "        row = self.data[idx]\n",
    "\n",
    "        return row\n",
    "\n",
    "\n",
    "goDataset = GoDataset('data/train/dan_train.csv')\n"
   ]
  },
  {
   "cell_type": "code",
   "execution_count": 16,
   "metadata": {},
   "outputs": [
    {
     "name": "stdout",
     "output_type": "stream",
     "text": [
      "100160\n"
     ]
    }
   ],
   "source": [
    "print(goDataset.__len__())"
   ]
  },
  {
   "cell_type": "code",
   "execution_count": 17,
   "metadata": {},
   "outputs": [
    {
     "name": "stdout",
     "output_type": "stream",
     "text": [
      "['DL0000000011', 'B', 'B[pq]', 'W[dd]', 'B[cp]', 'W[pd]', 'B[po]', 'W[jd]', 'B[qf]', 'W[pi]', 'B[ql]', 'W[qh]', 'B[qc]', 'W[pc]', 'B[qd]', 'W[pe]', 'B[rf]', 'W[pf]', 'B[cf]', 'W[di]', 'B[ef]', 'W[fd]', 'B[bd]', 'W[cc]', 'B[gf]', 'W[dg]', 'B[df]', 'W[cg]', 'B[hd]', 'W[bc]', 'B[cd]', 'W[ge]', 'B[he]', 'W[hf]', 'B[gg]', 'W[if]', 'B[ke]', 'W[je]', 'B[kf]', 'W[ec]', 'B[ne]', 'W[lc]', 'B[kd]', 'W[kc]', 'B[nc]', 'W[pb]', 'B[qb]', 'W[nb]', 'B[mc]', 'W[ld]', 'B[mb]', 'W[mf]', 'B[nf]', 'W[mg]', 'B[ng]', 'W[pg]', 'B[nh]', 'W[pk]', 'B[mh]', 'W[le]', 'B[lh]', 'W[kg]', 'B[kh]', 'W[jg]', 'B[gi]', 'W[dk]', 'B[cm]', 'W[ii]', 'B[gk]', 'W[dm]', 'B[cl]', 'W[dl]', 'B[ej]', 'W[ck]', 'B[cn]', 'W[gm]', 'B[hl]', 'W[ep]', 'B[eq]', 'W[fq]', 'B[dq]', 'W[fp]', 'B[kq]', 'W[ko]', 'B[lo]', 'W[ln]', 'B[mo]', 'W[kn]', 'B[kk]', 'W[ik]', 'B[il]', 'W[jk]', 'B[jl]', 'W[kl]', 'B[kj]', 'W[ji]', 'B[ll]', 'W[km]', 'B[jh]', 'W[ih]', 'B[hg]', 'W[ig]', 'B[fe]', 'W[gd]', 'B[in]', 'W[mm]', 'B[nk]', 'W[pl]', 'B[om]', 'W[nl]', 'B[ol]', 'W[ok]', 'B[mk]', 'W[io]', 'B[ho]', 'W[ip]', 'B[hp]', 'W[kp]', 'B[hq]', 'W[lq]', 'B[jq]', 'W[lp]', 'B[no]', 'W[hn]', 'B[hm]', 'W[gn]', 'B[gr]', 'W[fr]', 'B[lr]', 'W[mr]', 'B[kr]', 'W[nq]', 'B[or]', 'W[op]', 'B[oo]', 'W[pp]', 'B[qp]', 'W[qq]', 'B[qr]', 'W[qo]', 'B[rq]', 'W[qn]', 'B[pm]', 'W[qm]', 'B[rl]', 'W[rp]', 'B[qq]', 'W[ro]', 'B[rm]', 'W[qk]', 'B[rn]', 'W[rk]', 'B[pn]', 'W[ir]', 'B[iq]', 'W[ls]', 'B[hr]', 'W[is]', 'B[ks]', 'W[ms]', 'B[jp]', 'W[jo]', 'B[np]', 'W[gs]', 'B[hs]', 'W[fs]', 'B[mq]', 'W[mp]', 'B[jn]', 'W[go]', 'B[lm]', 'W[gp]', 'B[mn]', 'W[gq]', 'B[jm]', 'W[mq]', 'B[oq]']\n"
     ]
    }
   ],
   "source": [
    "print(goDataset[10])"
   ]
  }
 ],
 "metadata": {
  "kernelspec": {
   "display_name": "Python 3",
   "language": "python",
   "name": "python3"
  },
  "language_info": {
   "codemirror_mode": {
    "name": "ipython",
    "version": 3
   },
   "file_extension": ".py",
   "mimetype": "text/x-python",
   "name": "python",
   "nbconvert_exporter": "python",
   "pygments_lexer": "ipython3",
   "version": "3.10.2"
  }
 },
 "nbformat": 4,
 "nbformat_minor": 2
}
