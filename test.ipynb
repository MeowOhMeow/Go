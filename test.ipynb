{
 "cells": [
  {
   "cell_type": "code",
   "execution_count": 1,
   "metadata": {},
   "outputs": [],
   "source": [
    "import torch\n"
   ]
  },
  {
   "cell_type": "code",
   "execution_count": 11,
   "metadata": {},
   "outputs": [
    {
     "name": "stdout",
     "output_type": "stream",
     "text": [
      "tensor([[[1, 2, 3],\n",
      "         [4, 5, 6]]])\n",
      "tensor([[1, 2, 3, 4, 5, 6]])\n"
     ]
    }
   ],
   "source": [
    "t = torch.tensor([[[1, 2, 3], [4, 5, 6]]])\n",
    "print(t)\n",
    "print(t.reshape(-1, 6))"
   ]
  },
  {
   "cell_type": "code",
   "execution_count": 24,
   "metadata": {},
   "outputs": [
    {
     "data": {
      "image/png": "[encoded data removed]",
      "text/plain": [
       "<Figure size 500x500 with 1 Axes>"
      ]
     },
     "metadata": {},
     "output_type": "display_data"
    }
   ],
   "source": [
    "import matplotlib.pyplot as plt\n",
    "\n",
    "def rotate_point(x, y, n, max_val):\n",
    "    # Perform the rotation n times\n",
    "    for _ in range(n % 4):\n",
    "        x, y = y, max_val - x\n",
    "\n",
    "    return x, y\n",
    "\n",
    "max_val = 9\n",
    "x, y = 0, 9  # Replace these values with your point coordinates\n",
    "n = 1         # Number of 90-degree counterclockwise rotations\n",
    "\n",
    "x1, y1 = rotate_point(x, y, n, max_val)\n",
    "x2, y2 = rotate_point(x1, y1, n, max_val)\n",
    "x3, y3 = rotate_point(x2, y2, n, max_val)\n",
    "\n",
    "\n",
    "plt.figure(figsize=(5, 5))\n",
    "plt.plot([x, x1], [y, y1], 'ro-')\n",
    "plt.plot([x1, x2], [y1, y2], 'o-')\n",
    "plt.plot([x2, x3], [y2, y3], 'go-')\n",
    "plt.axis([0, max_val, 0, max_val])\n",
    "plt.show()\n"
   ]
  }
 ],
 "metadata": {
  "kernelspec": {
   "display_name": ".venv",
   "language": "python",
   "name": "python3"
  },
  "language_info": {
   "codemirror_mode": {
    "name": "ipython",
    "version": 3
   },
   "file_extension": ".py",
   "mimetype": "text/x-python",
   "name": "python",
   "nbconvert_exporter": "python",
   "pygments_lexer": "ipython3",
   "version": "3.11.6"
  }
 },
 "nbformat": 4,
 "nbformat_minor": 2
}
