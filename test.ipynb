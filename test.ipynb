{
 "cells": [
  {
   "cell_type": "code",
   "execution_count": 1,
   "metadata": {},
   "outputs": [
    {
     "name": "stdout",
     "output_type": "stream",
     "text": [
      "Sat Oct 21 12:39:52 2023       \n",
      "+---------------------------------------------------------------------------------------+\n",
      "| NVIDIA-SMI 545.84                 Driver Version: 545.84       CUDA Version: 12.3     |\n",
      "|-----------------------------------------+----------------------+----------------------+\n",
      "| GPU  Name                     TCC/WDDM  | Bus-Id        Disp.A | Volatile Uncorr. ECC |\n",
      "| Fan  Temp   Perf          Pwr:Usage/Cap |         Memory-Usage | GPU-Util  Compute M. |\n",
      "|                                         |                      |               MIG M. |\n",
      "|=========================================+======================+======================|\n",
      "|   0  NVIDIA GeForce RTX 3060 ...  WDDM  | 00000000:01:00.0 Off |                  N/A |\n",
      "| N/A   60C    P0              23W /  95W |    268MiB /  6144MiB |      6%      Default |\n",
      "|                                         |                      |                  N/A |\n",
      "+-----------------------------------------+----------------------+----------------------+\n",
      "                                                                                         \n",
      "+---------------------------------------------------------------------------------------+\n",
      "| Processes:                                                                            |\n",
      "|  GPU   GI   CI        PID   Type   Process name                            GPU Memory |\n",
      "|        ID   ID                                                             Usage      |\n",
      "|=======================================================================================|\n",
      "|    0   N/A  N/A     10576    C+G   ...Programs\\Microsoft VS Code\\Code.exe    N/A      |\n",
      "|    0   N/A  N/A     11524    C+G   ...al\\Discord\\app-1.0.9020\\Discord.exe    N/A      |\n",
      "|    0   N/A  N/A     13328    C+G   ...nt.CBS_cw5n1h2txyewy\\SearchHost.exe    N/A      |\n",
      "|    0   N/A  N/A     13460    C+G   ...2txyewy\\StartMenuExperienceHost.exe    N/A      |\n",
      "|    0   N/A  N/A     15244    C+G   ...x64__qmba6cd70vzyy\\ArmouryCrate.exe    N/A      |\n",
      "|    0   N/A  N/A     17300    C+G   ...US\\ArmouryDevice\\asus_framework.exe    N/A      |\n",
      "|    0   N/A  N/A     17316    C+G   ...ekyb3d8bbwe\\PhoneExperienceHost.exe    N/A      |\n",
      "|    0   N/A  N/A     17468    C+G   ...CBS_cw5n1h2txyewy\\TextInputHost.exe    N/A      |\n",
      "+---------------------------------------------------------------------------------------+\n"
     ]
    }
   ],
   "source": [
    "!nvidia-smi"
   ]
  },
  {
   "cell_type": "code",
   "execution_count": 2,
   "metadata": {},
   "outputs": [
    {
     "name": "stdout",
     "output_type": "stream",
     "text": [
      "True\n"
     ]
    }
   ],
   "source": [
    "import torch\n",
    "\n",
    "print(torch.cuda.is_available())"
   ]
  },
  {
   "cell_type": "markdown",
   "metadata": {},
   "source": [
    "# implement game logic"
   ]
  },
  {
   "cell_type": "code",
   "execution_count": 3,
   "metadata": {},
   "outputs": [],
   "source": [
    "\n",
    "class GoGame:\n",
    "    def __init__(self, board_size=19):\n",
    "        self.board_size = board_size\n",
    "        self.board = torch.zeros((board_size, board_size), dtype=torch.int8)\n",
    "\n",
    "    def place_stone(self, x, y, color):\n",
    "        self.board[x][y] = color\n",
    "        self.remove_dead_stones(-color)\n",
    "\n",
    "    def has_liberties(self, board, x, y, color, visited=None):\n",
    "        if visited is None:\n",
    "            visited = set()\n",
    "        if (x, y) in visited:\n",
    "            return False\n",
    "        visited.add((x, y))\n",
    "\n",
    "        if x < 0 or x >= len(board) or y < 0 or y >= len(board[0]):\n",
    "            return False\n",
    "        if board[x][y] == 0:\n",
    "            return True\n",
    "        if board[x][y] != color:\n",
    "            return False\n",
    "        # below is board[x][y] == color, this is a recursive function\n",
    "        liberties = any(\n",
    "            self.has_liberties(board, x + dx, y + dy, color, visited) for dx, dy in [(1, 0), (-1, 0), (0, 1), (0, -1)]\n",
    "        )\n",
    "        return liberties\n",
    "\n",
    "    def remove_dead_stones(self, color):\n",
    "        dead_stones = []\n",
    "        for x in range(self.board_size):\n",
    "            for y in range(self.board_size):\n",
    "                if self.board[x][y] == color and not self.has_liberties(self.board, x, y, color):\n",
    "                    dead_stones.append((x, y))\n",
    "\n",
    "        for x, y in dead_stones:\n",
    "            self.board[x][y] = 0\n",
    "\n",
    "    def get_board(self):\n",
    "        return self.board\n",
    "\n",
    "    def reset(self):\n",
    "        self.board = torch.zeros(\n",
    "            (self.board_size, self.board_size), dtype=torch.int8)\n"
   ]
  },
  {
   "cell_type": "code",
   "execution_count": 4,
   "metadata": {},
   "outputs": [],
   "source": [
    "import csv\n",
    "from torch.utils.data import Dataset\n",
    "\n",
    "\n",
    "class GoDataset(Dataset):\n",
    "    def __init__(self, path):\n",
    "        super().__init__()\n",
    "        self.path = path\n",
    "        self.goGame = GoGame()\n",
    "        self.char2idx = {c: i for i, c in enumerate('abcdefghijklmnopqrs')}\n",
    "\n",
    "        # Load data from CSV file\n",
    "        with open(self.path, newline='') as csvfile:\n",
    "            reader = csv.reader(csvfile, delimiter=',')\n",
    "            self.data = list(reader)\n",
    "\n",
    "    def _step(self, step):\n",
    "        # Step through the game\n",
    "        current_player = -1 if step[0] == 'B' else 1\n",
    "        x = self.char2idx[step[2]]\n",
    "        y = self.char2idx[step[3]]\n",
    "        self.goGame.place_stone(x, y, current_player)\n",
    "\n",
    "    def _transform(self, data):\n",
    "        # Transform data from CSV file into a board\n",
    "        transformed_data = []\n",
    "        for i in range(2, len(data)):\n",
    "            self._step(data[i])\n",
    "            # Append a copy of the board to avoid modifying the original\n",
    "            transformed_data.append(self.goGame.get_board().clone())\n",
    "        return transformed_data\n",
    "\n",
    "    def __len__(self):\n",
    "        return len(self.data)\n",
    "\n",
    "    def __getitem__(self, idx):\n",
    "        # Get data at the given index\n",
    "        row = self.data[idx]\n",
    "\n",
    "        # Transform data into a board\n",
    "        self.goGame.reset()\n",
    "        processed_data = self._transform(row)\n",
    "        return processed_data\n",
    "\n",
    "\n",
    "goDataset = GoDataset('data/train/dan_train.csv')\n"
   ]
  },
  {
   "cell_type": "code",
   "execution_count": 5,
   "metadata": {},
   "outputs": [
    {
     "name": "stdout",
     "output_type": "stream",
     "text": [
      "100160\n"
     ]
    }
   ],
   "source": [
    "print(goDataset.__len__())"
   ]
  },
  {
   "cell_type": "markdown",
   "metadata": {},
   "source": [
    "# draw board"
   ]
  },
  {
   "cell_type": "code",
   "execution_count": 6,
   "metadata": {},
   "outputs": [],
   "source": [
    "import numpy as np\n",
    "import cv2\n",
    "\n",
    "\n",
    "def draw_board(board):\n",
    "    # Create an RGB image (3 channels) with a green background\n",
    "    image = np.ones((20*20, 20*20, 3), dtype=np.uint8) * \\\n",
    "        173  # RGB values for a green color\n",
    "\n",
    "    # Draw lines\n",
    "    for i in range(1, 20):\n",
    "        cv2.line(image, (i * 20, 20), (i * 20, 20*20 - 20),\n",
    "                 color=(0, 0, 0), thickness=1)\n",
    "        cv2.line(image, (20, i * 20), (20*20 - 20, i * 20),\n",
    "                 color=(0, 0, 0), thickness=1)\n",
    "\n",
    "    # Draw stones\n",
    "    for row in range(19):\n",
    "        for col in range(19):\n",
    "            if board[row][col] == -1:  # Black stone\n",
    "                color = (0, 0, 0)  # RGB for black\n",
    "                cv2.circle(image, (col * 20 + 20, row * 20 + 20),\n",
    "                           8, color, -1)  # Draw a filled circle\n",
    "            elif board[row][col] == 1:  # White stone\n",
    "                color = (255, 255, 255)  # RGB for white\n",
    "                cv2.circle(image, (col * 20 + 20, row * 20 + 20),\n",
    "                           8, color, -1)  # Draw a filled circle\n",
    "\n",
    "    return image\n"
   ]
  },
  {
   "cell_type": "markdown",
   "metadata": {},
   "source": [
    "# visualize board"
   ]
  },
  {
   "cell_type": "code",
   "execution_count": 11,
   "metadata": {},
   "outputs": [
    {
     "data": {
      "text/plain": [
       "<matplotlib.image.AxesImage at 0x2679c01e740>"
      ]
     },
     "execution_count": 11,
     "metadata": {},
     "output_type": "execute_result"
    },
    {
     "data": {
      "image/png": "[encoded data removed]",
      "text/plain": [
       "<Figure size 640x480 with 1 Axes>"
      ]
     },
     "metadata": {},
     "output_type": "display_data"
    }
   ],
   "source": [
    "import matplotlib.pyplot as plt\n",
    "\n",
    "boards = goDataset.__getitem__(0)\n",
    "for i in range(5):\n",
    "    plt.imshow(draw_board(boards[i]))\n",
    "    plt.show()\n"
   ]
  }
 ],
 "metadata": {
  "kernelspec": {
   "display_name": "Python 3",
   "language": "python",
   "name": "python3"
  },
  "language_info": {
   "codemirror_mode": {
    "name": "ipython",
    "version": 3
   },
   "file_extension": ".py",
   "mimetype": "text/x-python",
   "name": "python",
   "nbconvert_exporter": "python",
   "pygments_lexer": "ipython3",
   "version": "3.10.2"
  }
 },
 "nbformat": 4,
 "nbformat_minor": 2
}
