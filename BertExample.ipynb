{
 "cells": [
  {
   "cell_type": "code",
   "execution_count": null,
   "metadata": {},
   "outputs": [],
   "source": [
    "!pip install transformers\n",
    "!pip install torch"
   ]
  },
  {
   "cell_type": "code",
   "execution_count": null,
   "metadata": {},
   "outputs": [],
   "source": [
    "from transformers import BertModel\n",
    "import torch.nn as nn\n",
    "class Bert(nn.Module):\n",
    "    def __init__(self, bert_path):\n",
    "        super().__init__()\n",
    "        self.bert = BertModel.from_pretrained(bert_path)\n",
    "\n",
    "    def forward(self, input_embeds, position_ids = None, attention_mask = None):\n",
    "        output = self.bert(inputs_embeds = input_embeds, position_ids = position_ids, attention_mask = attention_mask)\n",
    "        output = output.last_hidden_state\n",
    "        return output"
   ]
  },
  {
   "cell_type": "code",
   "execution_count": null,
   "metadata": {},
   "outputs": [],
   "source": [
    "import torch\n",
    "inputs_embeds = torch.rand(2, 10, 768)\n",
    "# shape: (batch_size, sequence_length, hidden_size)\n",
    "position_ids = torch.arange(10).unsqueeze(0).repeat(2, 1)\n",
    "# shape: (batch_size, sequence_length)\n",
    "attention_mask = torch.ones(2, 10)\n",
    "# shape: (batch_size, sequence_length)\n",
    "\n",
    "bert = Bert('bert-base-uncased')\n",
    "output = bert(inputs_embeds, position_ids, attention_mask)\n",
    "print(output.shape) # torch.Size([2, 10, 768]) 2: batch_size, 10: sequence_length, 768: hidden_size"
   ]
  }
 ],
 "metadata": {
  "kernelspec": {
   "display_name": "Python 3.9.18 ('.venv')",
   "language": "python",
   "name": "python3"
  },
  "language_info": {
   "codemirror_mode": {
    "name": "ipython",
    "version": 3
   },
   "file_extension": ".py",
   "mimetype": "text/x-python",
   "name": "python",
   "nbconvert_exporter": "python",
   "pygments_lexer": "ipython3",
   "version": "3.9.18"
  },
  "vscode": {
   "interpreter": {
    "hash": "8fdb6ab0ea572449d4e6cd1b6c5ec84b94b32c6763ff106b98270581a4c7701e"
   }
  }
 },
 "nbformat": 4,
 "nbformat_minor": 2
}
