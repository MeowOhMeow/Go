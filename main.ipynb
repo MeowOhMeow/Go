{
 "cells": [
  {
   "cell_type": "code",
   "execution_count": 55,
   "metadata": {},
   "outputs": [
    {
     "name": "stdout",
     "output_type": "stream",
     "text": [
      "Fri Nov 17 20:14:08 2023       \n",
      "+-----------------------------------------------------------------------------+\n",
      "| NVIDIA-SMI 460.32.03    Driver Version: 460.32.03    CUDA Version: 11.2     |\n",
      "|-------------------------------+----------------------+----------------------+\n",
      "| GPU  Name        Persistence-M| Bus-Id        Disp.A | Volatile Uncorr. ECC |\n",
      "| Fan  Temp  Perf  Pwr:Usage/Cap|         Memory-Usage | GPU-Util  Compute M. |\n",
      "|                               |                      |               MIG M. |\n",
      "|===============================+======================+======================|\n",
      "|   0  GeForce RTX 3090    Off  | 00000000:C1:00.0 Off |                  N/A |\n",
      "|  0%   51C    P2   128W / 370W |  17210MiB / 24265MiB |      0%      Default |\n",
      "|                               |                      |                  N/A |\n",
      "+-------------------------------+----------------------+----------------------+\n",
      "                                                                               \n",
      "+-----------------------------------------------------------------------------+\n",
      "| Processes:                                                                  |\n",
      "|  GPU   GI   CI        PID   Type   Process name                  GPU Memory |\n",
      "|        ID   ID                                                   Usage      |\n",
      "|=============================================================================|\n",
      "|    0   N/A  N/A      1996      G   /usr/lib/xorg/Xorg                  9MiB |\n",
      "|    0   N/A  N/A      2128      G   /usr/bin/gnome-shell               12MiB |\n",
      "|    0   N/A  N/A     20372      C   /usr/bin/python3                 6905MiB |\n",
      "|    0   N/A  N/A     33218      C   /usr/bin/python3                10277MiB |\n",
      "+-----------------------------------------------------------------------------+\n"
     ]
    }
   ],
   "source": [
    "!nvidia-smi"
   ]
  },
  {
   "cell_type": "markdown",
   "metadata": {},
   "source": [
    "# seed"
   ]
  },
  {
   "cell_type": "code",
   "execution_count": 56,
   "metadata": {},
   "outputs": [],
   "source": [
    "import random\n",
    "import numpy as np\n",
    "import torch\n",
    "\n",
    "\n",
    "def set_seed(seed):\n",
    "    random.seed(seed)\n",
    "    np.random.seed(seed)\n",
    "    torch.manual_seed(seed)\n",
    "    torch.cuda.manual_seed(seed)\n",
    "    if torch.cuda.is_available():\n",
    "        torch.cuda.manual_seed(seed)\n",
    "        torch.cuda.manual_seed_all(seed)\n",
    "    torch.backends.cudnn.deterministic = True\n",
    "    torch.backends.cudnn.benchmark = False\n",
    "\n",
    "\n",
    "seed = 11032006\n",
    "set_seed(seed)\n"
   ]
  },
  {
   "cell_type": "code",
   "execution_count": 57,
   "metadata": {},
   "outputs": [
    {
     "name": "stdout",
     "output_type": "stream",
     "text": [
      "True\n"
     ]
    }
   ],
   "source": [
    "import torch\n",
    "\n",
    "print(torch.cuda.is_available())"
   ]
  },
  {
   "cell_type": "markdown",
   "metadata": {},
   "source": [
    "# main"
   ]
  },
  {
   "cell_type": "code",
   "execution_count": 58,
   "metadata": {},
   "outputs": [
    {
     "name": "stdout",
     "output_type": "stream",
     "text": [
      "['/home/alanchou/Go', '/home/alanchou/micromamba/envs/.venv/lib/python39.zip', '/home/alanchou/micromamba/envs/.venv/lib/python3.9', '/home/alanchou/micromamba/envs/.venv/lib/python3.9/lib-dynload', '', '/home/alanchou/micromamba/envs/.venv/lib/python3.9/site-packages']\n"
     ]
    },
    {
     "ename": "TypeError",
     "evalue": "'module' object is not callable",
     "output_type": "error",
     "traceback": [
      "\u001b[0;31m---------------------------------------------------------------------------\u001b[0m",
      "\u001b[0;31mTypeError\u001b[0m                                 Traceback (most recent call last)",
      "Cell \u001b[0;32mIn[58], line 65\u001b[0m\n\u001b[1;32m     10\u001b[0m \u001b[38;5;66;03m# selected = [20, 53, 54]\u001b[39;00m\n\u001b[1;32m     11\u001b[0m \n\u001b[1;32m     12\u001b[0m \u001b[38;5;66;03m# df = pd.read_csv(\"train data.csv\")\u001b[39;00m\n\u001b[0;32m   (...)\u001b[0m\n\u001b[1;32m     40\u001b[0m \u001b[38;5;66;03m#     torch.cuda.empty_cache()\u001b[39;00m\n\u001b[1;32m     41\u001b[0m \u001b[38;5;66;03m#     gc.collect()\u001b[39;00m\n\u001b[1;32m     43\u001b[0m config \u001b[38;5;241m=\u001b[39m {\n\u001b[1;32m     44\u001b[0m     \u001b[38;5;124m\"\u001b[39m\u001b[38;5;124minput_dim\u001b[39m\u001b[38;5;124m\"\u001b[39m: \u001b[38;5;241m19\u001b[39m \u001b[38;5;241m*\u001b[39m \u001b[38;5;241m19\u001b[39m \u001b[38;5;241m*\u001b[39m \u001b[38;5;241m2\u001b[39m,\n\u001b[1;32m     45\u001b[0m     \u001b[38;5;124m\"\u001b[39m\u001b[38;5;124mnum_heads\u001b[39m\u001b[38;5;124m\"\u001b[39m: \u001b[38;5;241m2\u001b[39m,\n\u001b[0;32m   (...)\u001b[0m\n\u001b[1;32m     62\u001b[0m     \u001b[38;5;124m\"\u001b[39m\u001b[38;5;124mselected\u001b[39m\u001b[38;5;124m\"\u001b[39m: \u001b[38;5;241m0\u001b[39m\n\u001b[1;32m     63\u001b[0m }\n\u001b[0;32m---> 65\u001b[0m goDataset \u001b[38;5;241m=\u001b[39m \u001b[43mGoDataset\u001b[49m\u001b[43m(\u001b[49m\u001b[38;5;124;43m\"\u001b[39;49m\u001b[38;5;124;43mdata/train/dan_train.csv\u001b[39;49m\u001b[38;5;124;43m\"\u001b[39;49m\u001b[43m,\u001b[49m\u001b[43m \u001b[49m\u001b[43mconfig\u001b[49m\u001b[43m[\u001b[49m\u001b[38;5;124;43m\"\u001b[39;49m\u001b[38;5;124;43mdata_len\u001b[39;49m\u001b[38;5;124;43m\"\u001b[39;49m\u001b[43m]\u001b[49m\u001b[43m)\u001b[49m\n\u001b[1;32m     66\u001b[0m train_len \u001b[38;5;241m=\u001b[39m \u001b[38;5;28mint\u001b[39m(\u001b[38;5;241m0.8\u001b[39m \u001b[38;5;241m*\u001b[39m \u001b[38;5;28mlen\u001b[39m(goDataset))\n\u001b[1;32m     67\u001b[0m val_len \u001b[38;5;241m=\u001b[39m \u001b[38;5;28mlen\u001b[39m(goDataset) \u001b[38;5;241m-\u001b[39m train_len\n",
      "File \u001b[0;32m~/Go/GoDataset.py:20\u001b[0m, in \u001b[0;36mGoDataset.__init__\u001b[0;34m(self, path_of_data, length)\u001b[0m\n\u001b[1;32m     18\u001b[0m \u001b[39mself\u001b[39m\u001b[39m.\u001b[39mpreprocessed_path \u001b[39m=\u001b[39m \u001b[39m\"\u001b[39m\u001b[39mdata/preprocessed data\u001b[39m\u001b[39m\"\u001b[39m\n\u001b[1;32m     19\u001b[0m \u001b[39mself\u001b[39m\u001b[39m.\u001b[39mlength \u001b[39m=\u001b[39m length\n\u001b[0;32m---> 20\u001b[0m \u001b[39mself\u001b[39m\u001b[39m.\u001b[39mgoGame \u001b[39m=\u001b[39m GoGame()\n\u001b[1;32m     21\u001b[0m \u001b[39mself\u001b[39m\u001b[39m.\u001b[39mchar2idx \u001b[39m=\u001b[39m {c: i \u001b[39mfor\u001b[39;00m i, c \u001b[39min\u001b[39;00m \u001b[39menumerate\u001b[39m(\u001b[39m\"\u001b[39m\u001b[39mabcdefghijklmnopqrs\u001b[39m\u001b[39m\"\u001b[39m)}\n\u001b[1;32m     22\u001b[0m \u001b[39mself\u001b[39m\u001b[39m.\u001b[39mdir_len \u001b[39m=\u001b[39m \u001b[39mlen\u001b[39m(os\u001b[39m.\u001b[39mlistdir(\u001b[39m'\u001b[39m\u001b[39mdata/preprocessed data\u001b[39m\u001b[39m'\u001b[39m))\n",
      "\u001b[0;31mTypeError\u001b[0m: 'module' object is not callable"
     ]
    }
   ],
   "source": [
    "import pandas as pd\n",
    "import matplotlib.pyplot as plt\n",
    "from torch.utils.data import DataLoader\n",
    "from GoDataset import GoDataset\n",
    "from parmFinder import ParmFinder\n",
    "from Trainer import Trainer\n",
    "\n",
    "config = {\n",
    "    \"input_dim\": 19 * 19 * 2,\n",
    "    \"num_heads\": 2,\n",
    "    \"ffn_dim\": 512,\n",
    "    \"num_layers\": 3,\n",
    "    \"depthwise_conv_kernel_size\": 3,\n",
    "    \"dropout\": 0.1,\n",
    "    \"use_group_norm\": False,\n",
    "    \"convolution_first\": False,\n",
    "    \"lr\": 0.00001,\n",
    "    \"gen_path\": \"data/models/gen\",\n",
    "    \"dis_path\": \"data/models/dis\",\n",
    "    \"device\": torch.device(\"cuda\" if torch.cuda.is_available() else \"cpu\"),\n",
    "    # \"device\": torch.device(\"cpu\"),\n",
    "    \"batch_size\": 16,\n",
    "    \"clip_value\": 1,\n",
    "    \"data_len\": 64,\n",
    "    \"epochs\": 20,\n",
    "    \"early_stop\": 400,\n",
    "    \"selected\": 0\n",
    "}\n",
    "\n",
    "goDataset = GoDataset(\"data/train/dan_train.csv\", config[\"data_len\"])\n",
    "train_len = int(0.8 * len(goDataset))\n",
    "val_len = len(goDataset) - train_len\n",
    "train_dataset, val_dataset = torch.utils.data.random_split(\n",
    "    goDataset, [train_len, val_len]\n",
    ")\n",
    "train_loader = DataLoader(\n",
    "    train_dataset,\n",
    "    batch_size=int(config[\"batch_size\"]),\n",
    "    shuffle=True,\n",
    "    pin_memory=True,\n",
    ")\n",
    "val_loader = DataLoader(\n",
    "    val_dataset, batch_size=int(config[\"batch_size\"]), shuffle=False, pin_memory=True\n",
    ")\n",
    "trainer = Trainer(config, train_loader, val_loader)\n",
    "statistic = trainer.train()\n"
   ]
  },
  {
   "cell_type": "code",
   "execution_count": null,
   "metadata": {},
   "outputs": [],
   "source": [
    "\n",
    "for key, value in statistic.items():\n",
    "    plt.plot(value, label=key)\n",
    "    plt.legend()\n",
    "    plt.savefig(f\"plot/{key}.png\")\n",
    "    plt.clf()"
   ]
  }
 ],
 "metadata": {
  "kernelspec": {
   "display_name": "Python 3",
   "language": "python",
   "name": "python3"
  },
  "vscode": {
   "interpreter": {
    "hash": "8fdb6ab0ea572449d4e6cd1b6c5ec84b94b32c6763ff106b98270581a4c7701e"
   }
  }
 },
 "nbformat": 4,
 "nbformat_minor": 2
}
