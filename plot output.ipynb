{
 "cells": [
  {
   "cell_type": "code",
   "execution_count": null,
   "metadata": {},
   "outputs": [],
   "source": [
    "import torch"
   ]
  },
  {
   "cell_type": "markdown",
   "metadata": {},
   "source": [
    "# dataset"
   ]
  },
  {
   "cell_type": "code",
   "execution_count": null,
   "metadata": {},
   "outputs": [],
   "source": [
    "import csv\n",
    "import numpy as np\n",
    "from torch.utils.data import Dataset\n",
    "import time\n",
    "import os\n",
    "\n",
    "\n",
    "class GoDataset(Dataset):\n",
    "    def __init__(self, path_of_data, length):\n",
    "        \"\"\"\n",
    "        Initializes the GoDataset with the given CSV file path.\n",
    "        Args:\n",
    "            path (str): Path to the CSV file containing Go game data.\n",
    "        \"\"\"\n",
    "        super().__init__()\n",
    "        self.path = path_of_data\n",
    "        self.preprocessed_path = \"data/preprocessed data\"\n",
    "        self.length = length\n",
    "        self.goGame = GoGame()\n",
    "        self.char2idx = {c: i for i, c in enumerate(\"abcdefghijklmnopqrs\")}\n",
    "        self.dir_len = len(os.listdir(\"data/preprocessed data\"))\n",
    "\n",
    "        # Load data from CSV file\n",
    "        with open(self.path, newline=\"\") as csvfile:\n",
    "            reader = csv.reader(csvfile, delimiter=\",\")\n",
    "            # Read row by row\n",
    "            self.data = list(reader)  # dtype: list[str]\n",
    "\n",
    "    def __rotate_board(self, board, n):\n",
    "        board = torch.rot90(board, k=n, dims=(2, 3))\n",
    "\n",
    "        return board\n",
    "\n",
    "    def __read_from_file(self, row):\n",
    "        # get filename\n",
    "        filename = os.path.join(\n",
    "            self.preprocessed_path, f\"subdir_{int(row[0][2:])%self.dir_len}\", row[0]\n",
    "        )\n",
    "        boards = torch.load(filename + \".pt\").to(dtype=torch.float32)\n",
    "\n",
    "        random_start = np.random.randint(0, len(boards) - self.length)\n",
    "        boards = boards[random_start : random_start + self.length]\n",
    "\n",
    "        # get label\n",
    "        self.goGame.reset()\n",
    "        dim = 0 if row[random_start + self.length][0] == \"B\" else 1\n",
    "        self.goGame.place_stone(\n",
    "            self.char2idx[row[random_start + self.length][2]],\n",
    "            self.char2idx[row[random_start + self.length][3]],\n",
    "            dim,\n",
    "        )\n",
    "        label = self.goGame.get_board().clone()\n",
    "\n",
    "        # add a board to the end of the sequence\n",
    "        color_board = torch.zeros((2, 19, 19), dtype=torch.float32)\n",
    "        color_board[dim] = torch.ones((19, 19), dtype=torch.float32)\n",
    "        boards = torch.cat((boards, color_board.unsqueeze(0)), dim=0)\n",
    "\n",
    "        # rotate boards and label\n",
    "        boards = self.__rotate_board(boards, self.rotate_times)\n",
    "        label = label.rot90(self.rotate_times, dims=(1, 2))\n",
    "        label = label.reshape(-1)\n",
    "\n",
    "        return boards, label\n",
    "\n",
    "    def __len__(self):\n",
    "        \"\"\"\n",
    "        Returns the number of samples in the dataset.\n",
    "        Returns:\n",
    "            int: Number of samples in the dataset.\n",
    "        \"\"\"\n",
    "        return len(self.data)\n",
    "\n",
    "    def __getitem__(self, idx):\n",
    "        \"\"\"\n",
    "        Get data at the given index.\n",
    "        Args:\n",
    "            idx (int): Index of the data sample.\n",
    "        Returns:\n",
    "            torch.Tensor: Processed and padded data sample.\n",
    "        \"\"\"\n",
    "        # Get data at the given index\n",
    "        row = self.data[idx]\n",
    "\n",
    "        # Randomly rotate times\n",
    "        self.rotate_times = np.random.randint(3)\n",
    "\n",
    "        # Transform data into a board\n",
    "        processed_data, label = self.__read_from_file(row)\n",
    "        return processed_data, label"
   ]
  },
  {
   "cell_type": "code",
   "execution_count": null,
   "metadata": {},
   "outputs": [],
   "source": [
    "goDataset = GoDataset(\"data/processed data.csv\", 32)"
   ]
  },
  {
   "cell_type": "code",
   "execution_count": null,
   "metadata": {},
   "outputs": [],
   "source": [
    "G_path='data/models/gen/0_epoch310.pth'"
   ]
  },
  {
   "cell_type": "markdown",
   "metadata": {},
   "source": [
    "# plot"
   ]
  },
  {
   "cell_type": "code",
   "execution_count": null,
   "metadata": {},
   "outputs": [],
   "source": [
    "import matplotlib.pyplot as plt\n",
    "import time\n",
    "\n",
    "def plot_board(board):\n",
    "    board = board.reshape(19, 19)\n",
    "    plt.imshow(board, cmap=\"gray\")\n",
    "    plt.show()\n",
    "\n",
    "def plot_boards(boards):\n",
    "    for board in boards:\n",
    "        plot_board(board)\n",
    "\n",
    "model = torch.load(G_path)\n",
    "model.eval()\n",
    "with torch.no_grad():\n",
    "    for i in range(10):\n",
    "        boards, label = goDataset[i]\n",
    "        output, _ = model(boards)\n",
    "        # plot_boards(boards[0])\n",
    "        plot_board(output)\n",
    "        plot_board(label)\n",
    "        time.sleep(10)"
   ]
  }
 ],
 "metadata": {
  "kernelspec": {
   "display_name": ".venv",
   "language": "python",
   "name": "python3"
  },
  "language_info": {
   "name": "python",
   "version": "3.11.6"
  }
 },
 "nbformat": 4,
 "nbformat_minor": 2
}
