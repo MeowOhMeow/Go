{
 "cells": [
  {
   "cell_type": "code",
   "execution_count": 3,
   "metadata": {},
   "outputs": [],
   "source": [
    "import pandas as pd\n",
    "\n",
    "df = df = pd.read_csv(\"G_history.csv\")\n",
    "df = df.drop('train_loss', axis=1)\n",
    "df = df.drop('loss_ratio', axis=1)\n",
    "df['epochs'] = 10\n",
    "df['gen_path']='data/models/gen'\n",
    "df['dis_path']='data/models/dis'\n",
    "df.to_csv('train data.csv')\n"
   ]
  }
 ],
 "metadata": {
  "kernelspec": {
   "display_name": "Python 3.9.18 ('.venv')",
   "language": "python",
   "name": "python3"
  },
  "language_info": {
   "codemirror_mode": {
    "name": "ipython",
    "version": 3
   },
   "file_extension": ".py",
   "mimetype": "text/x-python",
   "name": "python",
   "nbconvert_exporter": "python",
   "pygments_lexer": "ipython3",
   "version": "3.9.18"
  },
  "orig_nbformat": 4,
  "vscode": {
   "interpreter": {
    "hash": "8fdb6ab0ea572449d4e6cd1b6c5ec84b94b32c6763ff106b98270581a4c7701e"
   }
  }
 },
 "nbformat": 4,
 "nbformat_minor": 2
}
